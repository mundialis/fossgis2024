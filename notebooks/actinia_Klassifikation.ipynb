{
 "cells": [
  {
   "cell_type": "markdown",
   "id": "c18254f0",
   "metadata": {},
   "source": [
    "![Image](images/actinia_logo.png)\n",
    "\n",
    "## Oberflächenklassifikation aus Luft- und Satellitenbildern mithilfe von actinia\n",
    "\n",
    "### Die actinia Prozesskette\n",
    "\n",
    "Actinia nutzt den **Prozesskettenansatz**, um für Import, Verarbeitung und\n",
    "Export von Geodaten mit dem actinia GRASS GIS Verarbeitungssystem zu \n",
    "kommunizieren. Die Prozesskette muss in JSON formuliert sein.\n",
    "\n",
    "Eine Prozesskette ist eine Liste von GRASS GIS Modulen, die nacheinander in der Reihenfolge der Liste ausgeführt werden. GRASS GIS Module werden als Prozessdefinitionen spezifiziert, die den Namen des Befehls, die Ein- und Ausgaben, einschließlich Import- und Exportdefinitionen sowie die Modulflags enthalten.\n",
    "\n",
    "Dieser Workshop benutzt die Python Bibliothek **requests** für Interaktion mit dem actinia REST Dienst."
   ]
  },
  {
   "cell_type": "markdown",
   "id": "7079d8ea",
   "metadata": {},
   "source": [
    "---\n",
    "\n",
    "### actinia API Dokumentation\n",
    "\n",
    "* [Stable actinia API v3 docs](https://redocly.github.io/redoc/?url=https://actinia.mundialis.de/api/v3/swagger.json)\n",
    "* [Development actinia API v3 docs](https://redocly.github.io/redoc/?url=https://actinia-dev.mundialis.de/api/v3/swagger.json)"
   ]
  },
  {
   "cell_type": "markdown",
   "id": "6c7b22d9",
   "metadata": {},
   "source": [
    "---\n",
    "\n",
    "### Anforderungen\n",
    "\n",
    "#### Software & Module\n",
    "\n",
    "Dieses Tutorial setzt voraus, dass Sie mit der Programmiersprache [Python](https://python.org) vertraut sind. Die Kenntnis grundlegender REST-API-Konzepte und deren Verwendung wird ebenfalls vorausgesetzt.\n",
    "\n",
    "Die in diesem Tutorium verwendeten Python-Module sind:\n",
    "* [requests](http://docs.python-requests.org/)\n",
    "* [json](https://docs.python.org/3/library/json.html)\n",
    "\n",
    "\n",
    "#### ACTINIA API Benutzer und Passwort\n",
    "\n",
    "Für diesen Workshop werden die Anmeldedaten für die Authentifizierung benötigt, die unten in **Vorbereitung** als Variable festgelegt sind. Eine andere Actinia-Instanz kann andere Anmeldedaten erfordern."
   ]
  },
  {
   "cell_type": "markdown",
   "id": "27c600f9",
   "metadata": {},
   "source": [
    "### Python Module und Hilfs-Funktionen\n",
    "\n",
    "Bevor wir mit dem actinia-Server über Python interagieren, werden wir die erforderlichen Pakete importieren und eine Hilfsfunktion einrichten, um ein formatiertes JSON ausgeben zu lassen."
   ]
  },
  {
   "cell_type": "markdown",
   "id": "ea084fe5",
   "metadata": {},
   "source": [
    "## Vorbereitung\n"
   ]
  },
  {
   "cell_type": "code",
   "execution_count": null,
   "id": "e5bf0f9a",
   "metadata": {},
   "outputs": [],
   "source": [
    "# Zuerst werden die erforderlichen Bibliotheken importiert.\n",
    "\n",
    "from pprint import pprint\n",
    "import sys\n",
    "import json\n",
    "import time\n",
    "import matplotlib.pyplot as plt\n",
    "import numpy as np\n",
    "from PIL import Image\n",
    "import shutil\n",
    "\n",
    "import requests\n",
    "from requests.auth import HTTPBasicAuth\n"
   ]
  },
  {
   "cell_type": "markdown",
   "id": "3d762264",
   "metadata": {
    "scrolled": true
   },
   "source": [
    "Um die Kommunikation mit dem actinia Server zu vereinfachen, speichern wir die Anmeldedaten und die URL des REST-Servers in Variablen:"
   ]
  },
  {
   "cell_type": "code",
   "execution_count": null,
   "id": "f8265286",
   "metadata": {},
   "outputs": [],
   "source": [
    "# variables to set the actinia host, version, and user\n",
    "\n",
    "actinia_baseurl = \"https://actinia.mundialis.de\"\n",
    "actinia_version = \"v3\"\n",
    "actinia_url = actinia_baseurl + \"/api/\" + actinia_version\n",
    "# user, pw for the FOSSGIS 2023 workshop\n",
    "actinia_auth = HTTPBasicAuth('fossgis2023', 'ieh0ahweefavicieca6g')"
   ]
  },
  {
   "cell_type": "markdown",
   "id": "40cef0ff",
   "metadata": {},
   "source": [
    "## Hilfs-Funktionen"
   ]
  },
  {
   "cell_type": "code",
   "execution_count": null,
   "id": "1a4a4423",
   "metadata": {},
   "outputs": [],
   "source": [
    "# helper function to print formatted JSON using the json module\n",
    "\n",
    "def print_as_json(data):\n",
    "    print(json.dumps(data, indent=2))\n",
    "\n",
    "# helper function to verify a request\n",
    "def verify_request(request, success_code=200):\n",
    "    if request.status_code != success_code:\n",
    "        print(\"ERROR: actinia processing failed with status code %d!\" % request.status_code)\n",
    "        print(\"See errors below:\")\n",
    "        print_as_json(request.json())\n",
    "        request_url = request.json()[\"urls\"][\"status\"]\n",
    "        requests.delete(url=request_url, auth=actinia_auth)\n",
    "        raise Exception(\"The resource <%s> has been terminated.\" % request_url)"
   ]
  },
  {
   "cell_type": "markdown",
   "id": "4c051995",
   "metadata": {},
   "source": [
    "Hilfs-Funktion zum Erstellen von Listeneinträgen für die Prozesskette "
   ]
  },
  {
   "cell_type": "code",
   "execution_count": null,
   "id": "7dc932e4",
   "metadata": {},
   "outputs": [],
   "source": [
    "# function to create a process chain item\n",
    "\n",
    "def create_actinia_pc_item(id, module,\n",
    "                           inputs=None, outputs=None, flags=None, stdin=None, stdout=None,\n",
    "                           overwrite=False, superquiet=False, verbose=False, interface_description=False):\n",
    "    \"\"\"\n",
    "    Creates a list item for an actinia process chain\n",
    "    \n",
    "    Parameters\n",
    "    ----------\n",
    "    id: str\n",
    "        unique id for this item\n",
    "    module: str\n",
    "        some valid GRASS or actinia module\n",
    "    inputs: list or dict\n",
    "        list of input parameters with values in the form\n",
    "        [{\"param\": key1, \"value\": value1}, {\"param\": key2, \"value\": value2}, ...]\n",
    "        shorter alternative as dict\n",
    "        {\"key1\": value1, \"key2\": value2, ...}\n",
    "    outputs: list or dict\n",
    "        list of output parameters with values in the form\n",
    "        [{\"param\": key1, \"value\": value1}, {\"param\": key2, \"value\": value2}, ...]\n",
    "        shorter alternative as dict\n",
    "        {\"key1\": value1, \"key2\": value2, ...}\n",
    "    flags: str\n",
    "        optional flags for the module\n",
    "    stdin: dict\n",
    "        options to read stdin\n",
    "    stdout: dict\n",
    "        options to write to stdout\n",
    "        must be of the form\n",
    "        {\"id\": value1, \"format\": value2, \"delimiter\": value3}\n",
    "    overwrite: bool\n",
    "        optional, set to True to allow overwriting existing data\n",
    "    superquiet: bool\n",
    "        optional, set to True to suppress all messages but errors\n",
    "    verbose: bool\n",
    "        optional, set to True to allow verbose messages\n",
    "    interface_description: bool\n",
    "        optional, set to True to create an interface_description\n",
    "    \"\"\"\n",
    "    pc_item = {\"id\": str(id), \"module\": module}\n",
    "    if inputs:\n",
    "        if isinstance(inputs, list):\n",
    "            pc_item[\"inputs\"] = inputs\n",
    "        elif isinstance(inputs, dict):\n",
    "            tmplist = []\n",
    "            for k, v in inputs.items():\n",
    "                tmplist.append({\"param\": k, \"value\": v})\n",
    "            pc_item[\"inputs\"] = tmplist\n",
    "    if outputs:\n",
    "        if isinstance(outputs, list):\n",
    "            pc_item[\"outputs\"] = outputs\n",
    "        elif isinstance(outputs, dict):\n",
    "            tmplist = []\n",
    "            for k, v in outputs.items():\n",
    "                tmplist.append({\"param\": k, \"value\": v})\n",
    "            pc_item[\"outputs\"] = tmplist\n",
    "    if flags:\n",
    "        pc_item[\"flags\"] = flags\n",
    "    if stdin:\n",
    "        pc_item[\"stdin\"] = stdin\n",
    "    if stdout:\n",
    "        pc_item[\"stdout\"] = stdout\n",
    "    if overwrite is True:\n",
    "        pc_item[\"overwrite\"] = True\n",
    "    if superquiet is True:\n",
    "        pc_item[\"superquiet\"] = True\n",
    "    if verbose is True:\n",
    "        pc_item[\"verbose\"] = True\n",
    "    if interface_description is True:\n",
    "        pc_item[\"interface_description\"] = True\n",
    "\n",
    "    return pc_item\n",
    "    "
   ]
  },
  {
   "cell_type": "markdown",
   "id": "037d57e1",
   "metadata": {},
   "source": [
    "## Oberflächenklassifikation von Luftbildern\n",
    "\n",
    "In diesem Beispiel werden Digitale Orthophotos (DOPs) und ein normalisiertes digitales Oberflächenmodell (nDOM) als Input für eine Klassifikation verwendet.\n",
    "\n",
    "DOPs sind Luftbildaufnahmen, die nicht nur georeferenziert sind, sondern auch mithilfe eines Oberflächenmodelles verfeinert wurden.\n",
    "\n",
    "![Image](images/DOP.jpg)\n",
    "\n",
    "Ein nDOM ist die Differenz von einem Oberflächenmodell, das auch die absoluten Höhen von Objekten wie Bäumen und Gebäuden beinhaltet, zu einem Geländemodell, das die absolute Höhe des tatsächlichen Bodens angibt, auf dem die Objekte stehen.\n",
    "\n",
    "![Image](images/nDOM.png)\n",
    "\n",
    "Diese Klassen sollen erkannt werden:\n",
    "\n",
    "![Image](images/Legende_Klassen.png)\n",
    "\n"
   ]
  },
  {
   "cell_type": "markdown",
   "id": "45d9b347",
   "metadata": {},
   "source": [
    "## Machine Learning\n",
    "\n",
    "In der scikit Dokumentation für [supervised learning](https://scikit-learn.org/stable/supervised_learning.html) gibt es für jede Machine Learning Methode \"Tips on Practical Use\", die sehr hilfreich sind, um ein Modell zu optimieren.\n",
    "\n",
    "### LogisticRegression\n",
    "\n",
    "[scikit logistic regression](https://scikit-learn.org/stable/modules/linear_model.html#logistic-regression)\n",
    "\n",
    " * modelliert die Wahrscheinlichkeit der Zugehörigkeit zu einer bestimmten Klasse mit Hilfe der Sigmoidfunktion\n",
    " * In der Regel wird ein Schwellenwert festgelegt, der angibt, bei welchem Wert das Beispiel in die eine Klasse bzw. in die andere Klasse eingeordnet wird (binäre Klassifizierung).\n",
    " * Multi-Klassen-Klassifikation: in scitkit z.B. One-versus-rest (für N Klassen, werden N binäre Klassifizierer trainiert, und die Klasse mit der höchsten Wahrscheinlichkeit wird dem Beispiel zugeordnet)\n",
    "\n",
    "\n",
    "### SVC\n",
    "\n",
    "[Tips on practical use](https://scikit-learn.org/stable/modules/svm.html#tips-on-practical-use)\n",
    "\n",
    " * Idee: Selektiere die Hyperebene, die den Abstand zwischen 2 Klassen maximiert\n",
    " * (Kernel-Trick: Bewegen zu anderen hoch Dimensionierten Raum, damit Daten nicht Linear trennbar sein müssen)\n",
    " * `r.learn.ml2`: nur lineare Kernel\n",
    " * Multi-Klassen-Klassifikation: in scitkit z.B. One-vs-one (für N Klassen gibt es Nx(N-1)/2 Klassifikatoren: jede Klasse gegen jede)\n",
    "\n",
    "\n",
    "![Image](images/iris_svc_001.png)\n",
    "\n",
    "### Decision trees\n",
    "\n",
    "[Tips on practical use](https://scikit-learn.org/stable/modules/tree.html#tips-on-practical-use)\n",
    "\n",
    " * Idee: Folge von Spaltungen des Input-raums definiert Region, die der Klasse entspricht\n",
    " * divide-and-conquer Strategie\n",
    " * &plus; leicht zu verstehen\n",
    " * &plus; hoch dimensionierte Daten + große Datenmengen\n",
    " * &minus; optimalen Split finden NP hart\n",
    " * &minus; Overfitting\n",
    "\n",
    "#### RandomForestClassifier\n",
    "\n",
    " * Bagging mit Decision Trees (DT) = Kombination von mehreren DT, die auf unterschiedliche Subsamples trainiert werden um einen besseren Klassifikator zu erlangen\n",
    " * &plus; reduziert Overfitting\n",
    " * &plus; leicht parallelisierbar\n",
    "\n",
    "![Image](images/iris_decision_trees.svg)\n",
    "\n",
    "###  KNeighborsClassifier\n",
    "\n",
    "[scikit neighbors](https://scikit-learn.org/stable/modules/neighbors.html#nearest-neighbors-classification)\n",
    "\n",
    " * Verteilung der Features durch Trainingsdaten modelliert\n",
    " * Klasse gewählt basierend auf nächsten Feature in Trainingsdaten\n",
    " * &plus; Trainingsdaten repräsentieren die Verteilung der Features\n",
    " * &plus; robuster als Nearest Neighbor\n",
    " * &minus; Rauschen, wenig robust gegen Ausreißer (vor allem wenn k klein gewählt ist)\n",
    " * &minus; viele Trainingsdaten benötigt\n",
    " * k meist 2-10\n",
    " * Features sollten gleich skaliert sein\n",
    "\n",
    "### MLPClassifier\n",
    "\n",
    "[Tips on practical use](https://scikit-learn.org/stable/modules/neural_networks_supervised.html#tips-on-practical-use)\n",
    "\n",
    " * Multilayer perceptron\n",
    " * einfaches Neuronales Netz (fully connected, feed-forward)\n",
    " * Paramter zum Einstellen:\n",
    "   * Anzahl der Layer + Neuronen pro Layer\n",
    "   * Aktivierungsfunktion (Zusammenhang zwischen den Neuronen)\n",
    "   * Lernrate (wie stark Gewichte angepasst werden)\n",
    "   * Optimierungsalgorithmus (Lossfunction, ...)\n",
    " * &minus; viele Trainingsdaten\n",
    " * &minus;/&plus; viele Parameter \n",
    "\n",
    "### GaussianNB\n",
    "\n",
    "[scikit Gaussian Naive Bayes](https://scikit-learn.org/stable/modules/naive_bayes.html#gaussian-naive-bayes)\n",
    "\n",
    " * basiert auf \"Bayes Theorem\": Diese Klassifikatoren gehen davon aus, dass der Wert eines bestimmten Merkmals unabhängig vom Wert eines anderen Merkmals ist\n",
    " * ordnet jedes Objekt der Klasse zu, zu der es mit der größten Wahrscheinlichkeit gehört\n",
    " * Wahrscheinlichkeit eines Features ist durch Gaussche Verteilung repräsentiert\n",
    " * &plus; benötigt nur wenig Trainingsdaten, um die für die Klassifizierung erforderlichen Parameter zu schätzen + haben einfachen Aufbau\n"
   ]
  },
  {
   "cell_type": "markdown",
   "id": "066589b0",
   "metadata": {},
   "source": [
    "### Erstellen einer Prozesskette Schritt für Schritt\n",
    "\n",
    "Zuerst wird die actinia request URL für asynchrones Prozessieren gesetzt und eine leere Prozesskette erstellt."
   ]
  },
  {
   "cell_type": "code",
   "execution_count": null,
   "id": "849115a8",
   "metadata": {},
   "outputs": [],
   "source": [
    "# create a POST request to the Actinia Data API\n",
    "request_url = actinia_url + \"/locations/fossgis2023_epsg25832_utm32N/processing_async_export\"\n",
    "\n",
    "process_chain = {\"version\": 1, \"list\": []}"
   ]
  },
  {
   "cell_type": "markdown",
   "id": "8d8b21ac",
   "metadata": {},
   "source": [
    "### Hinzufügen von Einträgen zu der Prozeskette\n",
    "\n",
    "Setzen der aktuellen Region für Raster-Prozessierung"
   ]
  },
  {
   "cell_type": "code",
   "execution_count": null,
   "id": "ebfed3eb",
   "metadata": {},
   "outputs": [],
   "source": [
    "# list item for g.region\n",
    "list_id = \"g_region_to_dop\"\n",
    "# long form, as in a process chain\n",
    "inputs = [\n",
    "              {\n",
    "                  \"param\": \"raster\",\n",
    "                  \"value\": \"dop_nir@PERMANENT\"\n",
    "              }\n",
    "          ]\n",
    "\n",
    "# short form, accepted by create_actinia_pc_item\n",
    "inputs = {\"raster\": \"dop_nir@PERMANENT\"}\n",
    "\n",
    "flags = \"p\"\n",
    "stdout = {\"id\": \"region_to_dop\", \"format\": \"list\", \"delimiter\": \"\\n\"}\n",
    "\n",
    "pc_item = create_actinia_pc_item(id=list_id,\n",
    "                                 module=\"g.region\",\n",
    "                                 inputs=inputs,\n",
    "                                 stdout=stdout,\n",
    "                                 flags=flags)\n",
    "process_chain[\"list\"].append(pc_item)\n",
    "\n",
    "print_as_json(process_chain)"
   ]
  },
  {
   "cell_type": "markdown",
   "id": "97043b2b",
   "metadata": {},
   "source": [
    "#### NDVI berechnen"
   ]
  },
  {
   "cell_type": "code",
   "execution_count": null,
   "id": "46fefd14",
   "metadata": {},
   "outputs": [],
   "source": [
    "# list item for r.mapcalc\n",
    "list_id = \"r_mapcalc_ndvi\"\n",
    "# long form\n",
    "inputs = [\n",
    "              {\n",
    "                  \"param\": \"expression\",\n",
    "                  \"value\": \"ndvi = int(127.5 * ( float((dop_nir@PERMANENT - dop_red@PERMANENT) / (dop_nir@PERMANENT + dop_red@PERMANENT)) + 1.0 ) )\"\n",
    "              }\n",
    "          ]\n",
    "\n",
    "# short form\n",
    "inputs = {\"expression\": \"ndvi = int(127.5 * ( float((dop_nir@PERMANENT - dop_red@PERMANENT) / (dop_nir@PERMANENT + dop_red@PERMANENT)) + 1.0 ) )\"}\n",
    "\n",
    "pc_item = create_actinia_pc_item(id=list_id,\n",
    "                                 module=\"r.mapcalc\",\n",
    "                                 inputs=inputs)\n",
    "process_chain[\"list\"].append(pc_item)\n",
    "\n",
    "print_as_json(process_chain)"
   ]
  },
  {
   "cell_type": "markdown",
   "id": "a07e24b0",
   "metadata": {},
   "source": [
    "#### Info zum NDVI Raster"
   ]
  },
  {
   "cell_type": "code",
   "execution_count": null,
   "id": "c771f47f",
   "metadata": {},
   "outputs": [],
   "source": [
    "# list item for r.info\n",
    "list_id = \"r_info_ndvi\"\n",
    "# long form\n",
    "inputs = [\n",
    "              {\n",
    "                  \"param\": \"map\",\n",
    "                  \"value\": \"ndvi\"\n",
    "              }\n",
    "          ]\n",
    "                \n",
    "# short form\n",
    "inputs = {\"map\": \"ndvi\"}\n",
    "flags = \"r\"\n",
    "\n",
    "stdout = {\"id\": \"ndvi_range\", \"format\": \"kv\", \"delimiter\": \"=\"}\n",
    "pc_item = create_actinia_pc_item(id=list_id,\n",
    "                                 module=\"r.info\",\n",
    "                                 inputs=inputs,\n",
    "                                 flags=flags,\n",
    "                                 stdout=stdout)\n",
    "process_chain[\"list\"].append(pc_item)\n",
    "\n",
    "print_as_json(process_chain)"
   ]
  },
  {
   "cell_type": "markdown",
   "id": "d0b6582c",
   "metadata": {},
   "source": [
    "#### Gruppe erstellen"
   ]
  },
  {
   "cell_type": "code",
   "execution_count": null,
   "id": "a30d3936",
   "metadata": {},
   "outputs": [],
   "source": [
    "# list item for i.group\n",
    "list_id = \"create_group\"\n",
    "# long form\n",
    "inputs = [{\"param\": \"input\",\n",
    "           \"value\": \"dop_red@PERMANENT,dop_green@PERMANENT,dop_blue@PERMANENT,dop_nir@PERMANENT,ndvi,ndom@PERMANENT\"\n",
    "           }]\n",
    "outputs = [{\"param\": \"group\",\n",
    "            \"value\": \"classification_input\"\n",
    "           }]\n",
    "# short form\n",
    "inputs = {\"input\": \"dop_red@PERMANENT,dop_green@PERMANENT,dop_blue@PERMANENT,dop_nir@PERMANENT,ndvi,ndom@PERMANENT\"}\n",
    "outputs = {\"group\": \"classification_input\"}\n",
    "\n",
    "pc_item = create_actinia_pc_item(id=list_id,\n",
    "                                 module=\"i.group\",\n",
    "                                 inputs=inputs,\n",
    "                                 outputs=outputs)\n",
    "process_chain[\"list\"].append(pc_item)\n",
    "\n",
    "print_as_json(process_chain)"
   ]
  },
  {
   "cell_type": "markdown",
   "id": "af3549d3",
   "metadata": {},
   "source": [
    "#### Trainings- und Validierungsdaten erstellen"
   ]
  },
  {
   "cell_type": "code",
   "execution_count": null,
   "id": "aa47c913",
   "metadata": {},
   "outputs": [],
   "source": [
    "# list item for v.divide.training_validation\n",
    "list_id = \"split_training_validation_data\"\n",
    "# long form\n",
    "inputs = [{\"param\": \"input\",\n",
    "           \"value\": \"training_set@PERMANENT\"\n",
    "          },\n",
    "          {\"param\": \"column\",\n",
    "           \"value\": \"classnum\"\n",
    "          },\n",
    "          {\"param\": \"training_percent\",\n",
    "           \"value\": \"70\"\n",
    "          }]\n",
    "outputs = [{\"param\": \"training\",\n",
    "            \"value\": \"tr_data\"\n",
    "           },\n",
    "           {\"param\": \"validation\",\n",
    "            \"value\": \"val_data\"\n",
    "           }]\n",
    "# short form\n",
    "inputs = {\"input\": \"training_set@PERMANENT\",\n",
    "          \"column\": \"classnum\",\n",
    "          \"training_percent\": \"70\"}\n",
    "\n",
    "outputs = {\"training\": \"tr_data\",\n",
    "           \"validation\": \"val_data\"\n",
    "          }\n",
    "\n",
    "pc_item = create_actinia_pc_item(id=list_id,\n",
    "                                 module=\"v.divide.training_validation\",\n",
    "                                 inputs=inputs,\n",
    "                                 outputs=outputs)\n",
    "process_chain[\"list\"].append(pc_item)\n",
    "\n",
    "print_as_json(process_chain)"
   ]
  },
  {
   "cell_type": "markdown",
   "id": "02079da8",
   "metadata": {},
   "source": [
    "#### Trainieren des ML Modelles mit `r.learn.train`\n",
    "\n",
    "Hier am Beispiel eines Random Forest Classifiers, siehe Dokumentation für [r.learn.train](https://grass.osgeo.org/grass82/manuals/addons/r.learn.train.html), z.B. welche Methoden verfügbar sind."
   ]
  },
  {
   "cell_type": "code",
   "execution_count": null,
   "id": "474dcd7f",
   "metadata": {},
   "outputs": [],
   "source": [
    "# list item for r.learn.train\n",
    "list_id = \"train_classifier\"\n",
    "# long form\n",
    "inputs = [{\"param\": \"group\",\n",
    "           \"value\": \"classification_input\"\n",
    "          },\n",
    "          {\"param\": \"training_points\",\n",
    "           \"value\": \"tr_data\"\n",
    "          },\n",
    "          {\"param\": \"cv\",\n",
    "           \"value\": \"5\"\n",
    "          },\n",
    "          {\"param\": \"model_name\",\n",
    "           \"value\": \"RandomForestClassifier\"\n",
    "          },\n",
    "          {\"param\": \"field\",\n",
    "           \"value\": \"classnum\"\n",
    "          }]\n",
    "outputs = [{\"param\": \"save_model\",\n",
    "            \"value\": \"RF_model.gz\"\n",
    "           }]\n",
    "\n",
    "    # short form\n",
    "inputs = {\"group\": \"classification_input\",\n",
    "          \"training_points\": \"tr_data\",\n",
    "          \"cv\": \"5\",\n",
    "          \"model_name\": \"RandomForestClassifier\",\n",
    "          \"field\": \"classnum\"\n",
    "         }\n",
    "outputs = {\"save_model\": \"RF_model.gz\"}\n",
    "\n",
    "pc_item = create_actinia_pc_item(id=list_id,\n",
    "                                 module=\"r.learn.train\",\n",
    "                                 inputs=inputs,\n",
    "                                 outputs=outputs)\n",
    "process_chain[\"list\"].append(pc_item)\n",
    "\n",
    "print_as_json(process_chain)"
   ]
  },
  {
   "cell_type": "markdown",
   "id": "bb556061",
   "metadata": {},
   "source": [
    "#### Eigentliche Klassifikation\n",
    "\n",
    "Anwenden des trainierten Modelles mit `r.learn.predict`"
   ]
  },
  {
   "cell_type": "code",
   "execution_count": null,
   "id": "0831b936",
   "metadata": {},
   "outputs": [],
   "source": [
    "# list item for r.learn.predict\n",
    "list_id = \"apply_classifier\"\n",
    "# long form\n",
    "inputs = [{\"param\": \"group\",\n",
    "           \"value\": \"classification_input\"\n",
    "          },\n",
    "          {\"param\": \"load_model\",\n",
    "           \"value\": \"RF_model.gz\"\n",
    "          }]\n",
    "outputs = [{\"param\": \"output\",\n",
    "            \"value\": \"classification_RF\"\n",
    "           }]\n",
    "\n",
    "        # short form\n",
    "inputs = {\"group\": \"classification_input\",\n",
    "          \"load_model\": \"RF_model.gz\"}\n",
    "outputs = {\"output\": \"classification_RF\"}\n",
    "\n",
    "pc_item = create_actinia_pc_item(id=list_id,\n",
    "                                 module=\"r.learn.predict\",\n",
    "                                 inputs=inputs,\n",
    "                                 outputs=outputs)\n",
    "process_chain[\"list\"].append(pc_item)\n",
    "\n",
    "print_as_json(process_chain)"
   ]
  },
  {
   "cell_type": "markdown",
   "id": "7c263960",
   "metadata": {},
   "source": [
    "#### Validierung"
   ]
  },
  {
   "cell_type": "code",
   "execution_count": null,
   "id": "79f31008",
   "metadata": {},
   "outputs": [],
   "source": [
    "# list item for r.confusionmatrix\n",
    "list_id = \"validation\"\n",
    "# long form\n",
    "inputs = [{\"param\": \"classification\",\n",
    "           \"value\": \"classification_RF\"\n",
    "          },\n",
    "          {\"param\": \"vector_reference\",\n",
    "           \"value\": \"val_data\"\n",
    "          },\n",
    "          {\"param\": \"column\",\n",
    "           \"value\": \"classnum\"\n",
    "          }]\n",
    "# short form\n",
    "inputs = {\"classification\": \"classification_RF\",\n",
    "          \"vector_reference\": \"val_data\",\n",
    "          \"column\": \"classnum\"}\n",
    "\n",
    "stdout = {\"id\": \"validation\", \"format\": \"list\", \"delimiter\": \"\\n\"}\n",
    "flags = \"d\"\n",
    "pc_item = create_actinia_pc_item(id=list_id,\n",
    "                                 module=\"r.confusionmatrix\",\n",
    "                                 inputs=inputs,\n",
    "                                 stdout=stdout,\n",
    "                                 flags=flags)\n",
    "process_chain[\"list\"].append(pc_item)\n",
    "\n",
    "print_as_json(process_chain)"
   ]
  },
  {
   "cell_type": "markdown",
   "id": "99bf6ce7",
   "metadata": {},
   "source": [
    "#### Ergebnisse exportieren"
   ]
  },
  {
   "cell_type": "code",
   "execution_count": null,
   "id": "8ea3f558",
   "metadata": {},
   "outputs": [],
   "source": [
    "# list item for the exporter\n",
    "list_id = \"export_classification\"\n",
    "# long form\n",
    "outputs = [{\"export\": {\"type\": \"raster\", \"format\": \"GTiff\"},\n",
    "            \"param\": \"map\",\n",
    "            \"value\": \"classification_RF\"}]\n",
    "\n",
    "# short form not working here because of the special \"export\" entry\n",
    "\n",
    "pc_item = create_actinia_pc_item(id=list_id,\n",
    "                                 module=\"exporter\",\n",
    "                                 outputs=outputs)\n",
    "process_chain[\"list\"].append(pc_item)\n",
    "\n",
    "print_as_json(process_chain)"
   ]
  },
  {
   "cell_type": "markdown",
   "id": "980d7310",
   "metadata": {},
   "source": [
    "#### Job submission\n",
    "\n",
    "Die Prozesskette wird mit der POST Methode an actinia geschickt"
   ]
  },
  {
   "cell_type": "code",
   "execution_count": null,
   "id": "014b8ab4",
   "metadata": {},
   "outputs": [],
   "source": [
    "# submit the job\n",
    "request = requests.post(url=request_url, auth=actinia_auth, json=process_chain)\n",
    "# check if anything went wrong\n",
    "verify_request(request, 200)"
   ]
  },
  {
   "cell_type": "markdown",
   "id": "1b1ee232",
   "metadata": {},
   "source": [
    "#### actinia Antwort\n",
    "\n",
    "actinia schickt eine Antwort zurück mit Informationen, ob die Prozesskette akzeptiert wurde"
   ]
  },
  {
   "cell_type": "code",
   "execution_count": null,
   "id": "f5069857",
   "metadata": {},
   "outputs": [],
   "source": [
    "# get a json-encoded content of the response\n",
    "jsonResponse = request.json()\n",
    "\n",
    "print(\"Response with status code %d:\" % request.status_code)\n",
    "\n",
    "# print formatted JSON\n",
    "print_as_json(jsonResponse)"
   ]
  },
  {
   "cell_type": "markdown",
   "id": "2a0a817a",
   "metadata": {},
   "source": [
    "#### Job Status\n",
    "\n",
    "Der Status des actinia jobs wird abgefragt"
   ]
  },
  {
   "cell_type": "code",
   "execution_count": null,
   "id": "52e90178",
   "metadata": {},
   "outputs": [],
   "source": [
    "# make a GET request to the Actinia Data API\n",
    "request_url = jsonResponse[\"urls\"][\"status\"]\n",
    "print(\"actinia GET request:\")\n",
    "print(request_url)\n",
    "print(\"---\")\n",
    "\n",
    "request = requests.get(url=request_url, auth=actinia_auth)\n",
    "\n",
    "# check if anything went wrong\n",
    "verify_request(request, 200)\n",
    "\n",
    "# get a json-encoded content of the response\n",
    "jsonResponse = request.json()"
   ]
  },
  {
   "cell_type": "markdown",
   "id": "a99a4abd",
   "metadata": {},
   "source": [
    "#### Job Ende\n",
    "\n",
    "Der Status des actinia jobs wird weiter abgefragt, bis er erfolgreich beendet wurde oder auf einen Fehler läuft. Wenn der Job erfolgreich beendet wurde, steht in der actinia Antwort \"Processing successfully finished\""
   ]
  },
  {
   "cell_type": "code",
   "execution_count": null,
   "id": "b13cc32d",
   "metadata": {},
   "outputs": [],
   "source": [
    "# continue polling until finished\n",
    "while request.status_code == 200 and \\\n",
    "        jsonResponse[\"message\"] != \"Processing successfully finished\":\n",
    "    request = requests.get(url=request_url, auth=actinia_auth)\n",
    "    jsonResponse = request.json()\n",
    "\n",
    "# check if anything went wrong\n",
    "verify_request(request, 200)"
   ]
  },
  {
   "cell_type": "markdown",
   "id": "d5ec2a63",
   "metadata": {},
   "source": [
    "#### Job logs und Ergebnisse\n",
    "\n",
    "actinia Antwort anzeigen"
   ]
  },
  {
   "cell_type": "code",
   "execution_count": null,
   "id": "078ee154",
   "metadata": {},
   "outputs": [],
   "source": [
    "# print formatted JSON\n",
    "print_as_json(jsonResponse)"
   ]
  },
  {
   "cell_type": "markdown",
   "id": "c87a365d",
   "metadata": {},
   "source": [
    "Ergebnisse runterladen, die URL ist in der Antwort.\n",
    "\n",
    "Das tif wird im angegebenen Ordner (`result/`) gespeichert."
   ]
  },
  {
   "cell_type": "code",
   "execution_count": null,
   "id": "d508ad3f",
   "metadata": {},
   "outputs": [],
   "source": [
    "result_url = request.json()[\"urls\"][\"resources\"][0]\n",
    "\n",
    "print(result_url)"
   ]
  },
  {
   "cell_type": "code",
   "execution_count": null,
   "id": "f639299b",
   "metadata": {},
   "outputs": [],
   "source": [
    "request = requests.get(url=result_url, auth=actinia_auth, stream=True)\n",
    "\n",
    "# download tif into new folder\n",
    "os.makedirs('result', exist_ok=True)\n",
    "with open('result/classification_RF.tif', 'wb') as out_file:\n",
    "    shutil.copyfileobj(request.raw, out_file)\n"
   ]
  },
  {
   "cell_type": "markdown",
   "id": "7e342140",
   "metadata": {},
   "source": [
    "### Ergebnis hier im notebook anzeigen"
   ]
  },
  {
   "cell_type": "code",
   "execution_count": null,
   "id": "e1f01e95",
   "metadata": {},
   "outputs": [],
   "source": [
    "img = np.asarray(Image.open(\"result/classification_RF.tif\"))\n",
    "imgplot = plt.imshow(img)\n",
    "plt.xticks([]);\n",
    "plt.yticks([]);"
   ]
  },
  {
   "cell_type": "markdown",
   "id": "a781014a",
   "metadata": {},
   "source": [
    "## Eigene Klassifikation"
   ]
  },
  {
   "cell_type": "markdown",
   "id": "3a453d75",
   "metadata": {},
   "source": [
    "Im Folgenden kann mit verschiedenen Input-Daten und/oder ML-Methoden experimentiert werden.\\\n",
    "Als Erstes muss wieder die region gesetzt, sowie der NDVI berechnet werden. Hier muss nichts geändert werden:"
   ]
  },
  {
   "cell_type": "code",
   "execution_count": null,
   "id": "a173ecf9",
   "metadata": {},
   "outputs": [],
   "source": [
    "process_chain = {\"version\": 1, \"list\": []}\n",
    "\n",
    "# short form, accepted by create_actinia_pc_item\n",
    "inputs = {\"raster\": \"dop_nir@PERMANENT\"}\n",
    "\n",
    "flags = \"p\"\n",
    "stdout = {\"id\": \"region_to_dop\", \"format\": \"list\", \"delimiter\": \"\\n\"}\n",
    "\n",
    "pc_item = create_actinia_pc_item(id=list_id,\n",
    "                                 module=\"g.region\",\n",
    "                                 inputs=inputs,\n",
    "                                 stdout=stdout,\n",
    "                                 flags=flags)\n",
    "process_chain[\"list\"].append(pc_item)\n",
    "\n",
    "# short form\n",
    "inputs = {\"expression\": \"ndvi = int(127.5 * ( float((dop_nir@PERMANENT - dop_red@PERMANENT) / (dop_nir@PERMANENT + dop_red@PERMANENT)) + 1.0 ) )\"}\n",
    "\n",
    "pc_item = create_actinia_pc_item(id=list_id,\n",
    "                                 module=\"r.mapcalc\",\n",
    "                                 inputs=inputs)\n",
    "process_chain[\"list\"].append(pc_item)"
   ]
  },
  {
   "cell_type": "markdown",
   "id": "d3da6625",
   "metadata": {},
   "source": [
    "Nun wird der Input für die Klassifikation definiert:\n",
    "Über den Endpunkt `/locations/<location_name>/mapsets/<mapset>/raster_layers` können die potenziellen Input-Daten angezeigt werden "
   ]
  },
  {
   "cell_type": "code",
   "execution_count": null,
   "id": "f394e8b3",
   "metadata": {},
   "outputs": [],
   "source": [
    "# make a GET request to the actinia data API\n",
    "request_url = actinia_url + \"/locations/fossgis2023_epsg25832_utm32N/mapsets/PERMANENT/raster_layers\"\n",
    "print(\"actinia GET request:\")\n",
    "print(request_url)\n",
    "print(\"---\")\n",
    "request = requests.get(url=request_url, auth=actinia_auth)\n",
    "\n",
    "# check if anything went wrong\n",
    "verify_request(request, 200)\n",
    "\n",
    "# get a json-encoded content of the response\n",
    "jsonResponse = request.json()\n",
    "\n",
    "print(\"Raster layers in mapset PERMANENT of location fossgis2023_epsg25832_utm32N:\")\n",
    "\n",
    "# print formatted JSON\n",
    "print_as_json(jsonResponse[\"process_results\"])\n",
    "\n"
   ]
  },
  {
   "cell_type": "markdown",
   "id": "c3540e78",
   "metadata": {},
   "source": [
    "Im Folgenden können nach Belieben die Input Daten variiert werden.\\\n",
    "*Hinweis:* Sie müssen den Namen der Karte und des Mapsets folgendermaßen angeben: \"map_name@mapset_name\"."
   ]
  },
  {
   "cell_type": "code",
   "execution_count": null,
   "id": "bfdde3f6",
   "metadata": {},
   "outputs": [],
   "source": [
    "# list item for i.group\n",
    "list_id = \"create_group\"\n",
    "\n",
    "# TODO: Input setzen\n",
    "inputs = {\"input\": \"map_name@PERMANENT,...\"}\n",
    "outputs = {\"group\": \"classification_input\"}\n",
    "\n",
    "pc_item = create_actinia_pc_item(id=list_id,\n",
    "                                 module=\"i.group\",\n",
    "                                 inputs=inputs,\n",
    "                                 outputs=outputs)\n",
    "process_chain[\"list\"].append(pc_item)"
   ]
  },
  {
   "cell_type": "markdown",
   "id": "b5b524d3",
   "metadata": {},
   "source": [
    "Der Input wird wieder in ein Trainings und Validierungsset aufgeteilt. Hier muss nichts geändert werden.\\\n",
    "Optional kann der Anteil an Trainingsdaten variiert werden (aktuell bei 70%)"
   ]
  },
  {
   "cell_type": "code",
   "execution_count": null,
   "id": "18caa43a",
   "metadata": {},
   "outputs": [],
   "source": [
    "# list item for v.divide.training_validation\n",
    "list_id = \"split_training_validation_data\"\n",
    "           \n",
    "# short form\n",
    "inputs = {\"input\": \"training_set@PERMANENT\",\n",
    "          \"column\": \"classnum\",\n",
    "          \"training_percent\": \"70\"}\n",
    "\n",
    "outputs = {\"training\": \"tr_data\",\n",
    "           \"validation\": \"val_data\"\n",
    "          }\n",
    "\n",
    "pc_item = create_actinia_pc_item(id=list_id,\n",
    "                                 module=\"v.divide.training_validation\",\n",
    "                                 inputs=inputs,\n",
    "                                 outputs=outputs)\n",
    "process_chain[\"list\"].append(pc_item)"
   ]
  },
  {
   "cell_type": "markdown",
   "id": "413ece2c",
   "metadata": {},
   "source": [
    "Nun wird die ML-Methodik gewählt (Dokumentation möglicher Methodiken und Parameter siehe [r.learn.train](https://grass.osgeo.org/grass82/manuals/addons/r.learn.train.html))"
   ]
  },
  {
   "cell_type": "code",
   "execution_count": null,
   "id": "e7f6fa58",
   "metadata": {},
   "outputs": [],
   "source": [
    "# list item for r.learn.train\n",
    "list_id = \"train_classifier\"\n",
    "\n",
    "inputs = {\"group\": \"classification_input\",\n",
    "          \"training_points\": \"tr_data\",\n",
    "          \"field\": \"classnum\",\n",
    "          # TODO: Auswahl einer ML-Methodik, sowie setzen verschiedener Parameter\n",
    "         }\n",
    "# TODO: Model-name vergeben\n",
    "outputs = {\"save_model\": \"<modelname>.gz\"}\n",
    "\n",
    "pc_item = create_actinia_pc_item(id=list_id,\n",
    "                                 module=\"r.learn.train\",\n",
    "                                 inputs=inputs,\n",
    "                                 outputs=outputs)\n",
    "process_chain[\"list\"].append(pc_item)"
   ]
  },
  {
   "cell_type": "markdown",
   "id": "db86bfd6",
   "metadata": {},
   "source": [
    "Anwenden des trainierten Modelles mit `r.learn.predict`"
   ]
  },
  {
   "cell_type": "code",
   "execution_count": null,
   "id": "03a20043",
   "metadata": {},
   "outputs": [],
   "source": [
    "# list item for r.learn.predict\n",
    "list_id = \"apply_classifier\"\n",
    "\n",
    "\n",
    "# TODO: Modelname und output definieren \n",
    "inputs = {\"group\": \"classification_input\",\n",
    "          \"load_model\": \"<modelname>.gz\"}\n",
    "outputs = {\"output\": \"<outputname>\"}\n",
    "\n",
    "pc_item = create_actinia_pc_item(id=list_id,\n",
    "                                 module=\"r.learn.predict\",\n",
    "                                 inputs=inputs,\n",
    "                                 outputs=outputs)\n",
    "process_chain[\"list\"].append(pc_item)\n",
    "\n",
    "print_as_json(process_chain)"
   ]
  },
  {
   "cell_type": "markdown",
   "id": "afb49564",
   "metadata": {},
   "source": [
    "Validierung der Ergebnisse:"
   ]
  },
  {
   "cell_type": "code",
   "execution_count": null,
   "id": "b17a63d2",
   "metadata": {},
   "outputs": [],
   "source": [
    "# list item for r.confusionmatrix\n",
    "list_id = \"validation\"\n",
    "\n",
    "# TODO: output aus vorigem Schritt angeben\n",
    "inputs = {\"classification\": \"<outputname>\",\n",
    "          \"vector_reference\": \"val_data\",\n",
    "          \"column\": \"classnum\"}\n",
    "\n",
    "stdout = {\"id\": \"validation\", \"format\": \"list\", \"delimiter\": \"\\n\"}\n",
    "flags = \"d\"\n",
    "pc_item = create_actinia_pc_item(id=list_id,\n",
    "                                 module=\"r.confusionmatrix\",\n",
    "                                 inputs=inputs,\n",
    "                                 stdout=stdout,\n",
    "                                 flags=flags)\n",
    "process_chain[\"list\"].append(pc_item)"
   ]
  },
  {
   "cell_type": "markdown",
   "id": "cd1c0f7c",
   "metadata": {},
   "source": [
    "Ausgeben der Prozesskette"
   ]
  },
  {
   "cell_type": "code",
   "execution_count": null,
   "id": "223cffbd",
   "metadata": {},
   "outputs": [],
   "source": [
    "print_as_json(process_chain)"
   ]
  },
  {
   "cell_type": "markdown",
   "id": "9247855f",
   "metadata": {},
   "source": [
    "Ergebnisse exportieren"
   ]
  },
  {
   "cell_type": "code",
   "execution_count": null,
   "id": "d687aca1",
   "metadata": {},
   "outputs": [],
   "source": [
    "# list item for the exporter\n",
    "list_id = \"export_classification\"\n",
    "# long form\n",
    "outputs = [{\"export\": {\"type\": \"raster\", \"format\": \"GTiff\"},\n",
    "            \"param\": \"map\",\n",
    "            \"value\": \"<outputname>\"}]\n",
    "\n",
    "# short form not working here because of the special \"export\" entry\n",
    "\n",
    "pc_item = create_actinia_pc_item(id=list_id,\n",
    "                                 module=\"exporter\",\n",
    "                                 outputs=outputs)\n",
    "process_chain[\"list\"].append(pc_item)\n",
    "\n",
    "print_as_json(process_chain)"
   ]
  },
  {
   "cell_type": "markdown",
   "id": "e638edb9",
   "metadata": {},
   "source": [
    "Nun wird die Prozesskette an actinia geschickt und prozessiert:"
   ]
  },
  {
   "cell_type": "code",
   "execution_count": null,
   "id": "adb70c8e",
   "metadata": {},
   "outputs": [],
   "source": [
    "# submit the job\n",
    "request = requests.post(url=request_url, auth=actinia_auth, json=process_chain)\n",
    "# check if anything went wrong\n",
    "verify_request(request, 200)\n",
    "\n",
    "# get a json-encoded content of the response\n",
    "jsonResponse = request.json()\n",
    "\n",
    "print(\"Response with status code %d:\" % request.status_code)\n",
    "\n",
    "# print formatted JSON\n",
    "print_as_json(jsonResponse)\n",
    "\n",
    "# make a GET request to the Actinia Data API\n",
    "request_url = jsonResponse[\"urls\"][\"status\"]\n",
    "print(\"actinia GET request:\")\n",
    "print(request_url)\n",
    "print(\"---\")\n",
    "\n",
    "# continue polling until finished\n",
    "while request.status_code == 200 and \\\n",
    "        jsonResponse[\"message\"] != \"Processing successfully finished\":\n",
    "    request = requests.get(url=request_url, auth=actinia_auth)\n",
    "    jsonResponse = request.json()\n",
    "\n",
    "# check if anything went wrong\n",
    "verify_request(request, 200)\n",
    "\n",
    "# get a json-encoded content of the response\n",
    "jsonResponse = request.json()"
   ]
  },
  {
   "cell_type": "markdown",
   "id": "71f99b47",
   "metadata": {},
   "source": [
    "Visualisierung der Ergebnisse:"
   ]
  },
  {
   "cell_type": "markdown",
   "id": "d44e75f6",
   "metadata": {},
   "source": [
    "Ergebnisse runterladen, die URL ist in der Antwort.\n",
    "\n",
    "Das tif wird im aktuellen Ordner gespeichert."
   ]
  },
  {
   "cell_type": "code",
   "execution_count": null,
   "id": "dc2034cd",
   "metadata": {},
   "outputs": [],
   "source": [
    "result_url = request.json()[\"urls\"][\"resources\"][0]\n",
    "\n",
    "print(result_url)"
   ]
  },
  {
   "cell_type": "code",
   "execution_count": null,
   "id": "7b42066e",
   "metadata": {},
   "outputs": [],
   "source": [
    "request = requests.get(url=result_url, auth=actinia_auth, stream=True)\n",
    "\n",
    "with open('result/my_result.tif', 'wb') as out_file:\n",
    "    shutil.copyfileobj(request.raw, out_file)\n"
   ]
  },
  {
   "cell_type": "markdown",
   "id": "31a45e4f",
   "metadata": {},
   "source": [
    "Neues Ergebnis hier im notebook anzeigen"
   ]
  },
  {
   "cell_type": "code",
   "execution_count": null,
   "id": "0a56026a",
   "metadata": {},
   "outputs": [],
   "source": [
    "img = np.asarray(Image.open(\"result/my_result.tif\"))\n",
    "imgplot = plt.imshow(img)\n",
    "plt.xticks([]);\n",
    "plt.yticks([]);"
   ]
  }
 ],
 "metadata": {
  "kernelspec": {
   "display_name": "Python 3 (ipykernel)",
   "language": "python",
   "name": "python3"
  },
  "language_info": {
   "codemirror_mode": {
    "name": "ipython",
    "version": 3
   },
   "file_extension": ".py",
   "mimetype": "text/x-python",
   "name": "python",
   "nbconvert_exporter": "python",
   "pygments_lexer": "ipython3",
   "version": "3.8.10"
  },
  "widgets": {
   "application/vnd.jupyter.widget-state+json": {
    "state": {},
    "version_major": 2,
    "version_minor": 0
   }
  }
 },
 "nbformat": 4,
 "nbformat_minor": 5
}
