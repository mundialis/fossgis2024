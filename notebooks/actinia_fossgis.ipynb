{
 "cells": [
  {
   "cell_type": "markdown",
   "id": "26859918",
   "metadata": {},
   "source": [
    "<img style=\"float: center;\" src=\"https://raw.githubusercontent.com/actinia-org/actinia-core/main/docs/docs/actinia_logo.svg\" width=\"25%\">\n",
    "\n",
    "## Einführung\n",
    "\n",
    "Die cloudbasierte Geoprocessing-Plattform [actinia](https://actinia.mundialis.de/)\n",
    "ist in der Lage, große Mengen von Geodaten in der Cloud zu verarbeiten und zu\n",
    "analysieren. Die Software vereinigt viele [GRASS GIS](https://grass.osgeo.org/)\n",
    "Verarbeitungswerkzeuge und Datenbanken als\n",
    "[REST-Dienst](https://en.wikipedia.org/wiki/Representational_State_Transfer).\n",
    "Daher ist der Zugriff auf GRASS-Ressourcen wie Rasterkarten, Raum-Zeit-Rasterdatensätze,\n",
    "Verarbeitungs- und Analysemodule über URLs möglich. Darüber hinaus ermöglicht\n",
    "actinia die cloudbasierte Verarbeitung von Daten, zum Beispiel alle Landsat 4-9 Szenen\n",
    "sowie alle Sentinel-2-Szenen in einer ephemeren Datenbank. Die Berechnungsergebnisse\n",
    "stehen in der ephemeren Verarbeitung über Objektspeicher als GeoTIFF/COG Rasterdateien oder\n",
    "GeoPackage-Vektordateien zur Verfügung.\n",
    "\n",
    "Der actinia-Dienst besteht aus dem *[actinia core](https://github.com/actinia-org/actinia-core)*,\n",
    "der den grundlegenden, aber anspruchsvollen Verarbeitungsdienst bereitstellt, und\n",
    "*[actinia plugins](https://github.com/orgs/actinia-org/repositories?q=actinia+plugins&type=all&language=&sort=)*,\n",
    "die themenpezifische Dienste wie NDVI-Berechnungen aus Sentinel-2 oder Landsat-Daten,\n",
    "räumlich-zeitliche statistische Analysen und vieles mehr anbieten.\n",
    "\n",
    "Das folgende Beispiel ist eine überarbeitete Jupyter Notebook Version des Online\n",
    "[actinia Tutorials](https://actinia-dev.mundialis.de/tutorial/introduction.html)."
   ]
  },
  {
   "cell_type": "markdown",
   "id": "c6a14f85",
   "metadata": {},
   "source": [
    "### Was ist REST?\n",
    "\n",
    "Der Representational State Transfer ([REST](https://de.wikipedia.org/wiki/Representational_State_Transfer))\n",
    "ist eine Abstraktion der Struktur und des Verhaltens des World Wide Web\n",
    "([HTTP](https://de.wikipedia.org/wiki/Hypertext_Transfer_Protocol)). Ziel von REST\n",
    "ist es, einen Architekturstil zu schaffen, der den Anforderungen des modernen Web\n",
    "besser gerecht wird. Dabei unterscheidet sich REST von anderen Architekturstilen\n",
    "vor allem durch die Forderung nach einer einheitlichen Schnittstelle. Der Fokus von\n",
    "REST liegt auf der Maschine-zu-Maschine-Kommunikation. REST benutzt die\n",
    "\"[request methods](https://en.wikipedia.org/wiki/Hypertext_Transfer_Protocol#Request_methods)\"\n",
    "GET, DELETE, POST und PUT, um Ressourcen mit zustandslosen Operationen zu manipulieren\n",
    "und zu empfangen.\n",
    "\n",
    "Während GET-Anfragen einfach von einem Browser gesendet werden können, sind POST-,\n",
    "PUT- oder DELETE-Anfragen nicht möglich. Um das volle Potenzial von actinia zu nutzen,\n",
    "benötigen Sie einen HTTP-Client, der alle HTTP-Kommunikationsmethoden beherrscht.\n",
    "Für diesen Zweck werden wir hier dieses Jupyter Notebook verwenden.\n",
    "\n",
    "### GRASS GIS Data Management\n",
    "\n",
    "GRASS GIS, was intern neben GDAL und anderen Komponenten von actinia verwendet wird, hat die in der Abbildung dargestellte Datenbankstruktur.\n",
    "\n",
    "![grass_format](images/grass_format.png)\n",
    "\n",
    "**Funktionalität über GRASS GIS hinaus**\n",
    "\n",
    "Actinia ist nicht nur eine REST-Schnittstelle zu GRASS GIS, sondern bietet die Möglichkeit, seine Funktionalität mit anderer Software (ESA SNAP, GDAL, ...) zu erweitern. Um andere als GRASS GIS Software zu integrieren, muss ein Wrapper-Skript geschrieben werden (Stil: als GRASS GIS Addon Python-Skript), das dann die entsprechenden Funktionsaufrufe der zu integrierenden Software enthält. Der Aufruf von Shell-Befehlen in einer actinia-Prozesskette ist ebenfalls möglich, aber aufgrund von Sicherheitsrisiken eingeschränkt.\n",
    "\n",
    "\n",
    "### Persistent vs. User Database\n",
    "\n",
    "Unter **Persistentem Speicher** versteht man einen Datenspeicher, der die Daten auch bei einem Stromausfall und ohne geplante Löschzeiten aufbewahrt. Im Geo/EO-Kontext wird der persistente Speicher z. B. für die Bereitstellung von Basiskartographie verwendet, d. h. für Höhenmodelle, Straßennetze, Gebäudegrundrisse usw.\n",
    "\n",
    "Der **ephemere Speicher** wird für auf Anfrage berechnete Ergebnisse verwendet, einschließlich benutzergenerierter Daten und temporärer Daten, die in Verarbeitungsketten anfallen. In einem ephemeren Speicher werden die Daten nur für einen begrenzten Zeitraum aufbewahrt (z. B. in Actinia standardmäßig für 24 Stunden).\n",
    "\n",
    "Im Kontext des Cloud Computing sind diese Unterschiede relevant, da bei der Speicherung von Daten Kosten anfallen.\n",
    "\n",
    "Dementsprechend bietet actinia zwei Betriebsmodi an: persistente und ephemere (User) Verarbeitung. Insbesondere wird der **actinia server** typischerweise auf einem Server mit Zugriff auf eine persistente GRASS GIS Datenbank (PDB) und optional auf eine oder mehrere GRASS GIS Nutzerdatenbanken (UDB) eingesetzt."
   ]
  },
  {
   "cell_type": "markdown",
   "id": "12ef4ac3",
   "metadata": {},
   "source": [
    "---\n",
    "\n",
    "### actinia API documentation\n",
    "\n",
    "Die Schnittstellen Dokumentation findet sich hier:\n",
    "\n",
    "* [actinia \"stable\" API v3 docs](https://redocly.github.io/redoc/?url=https://actinia.mundialis.de/api/v3/swagger.json)\n",
    "* [actinia \"development\" API v3 docs](https://redocly.github.io/redoc/?url=https://actinia-dev.mundialis.de/api/v3/swagger.json)"
   ]
  },
  {
   "cell_type": "markdown",
   "id": "76d620ef",
   "metadata": {},
   "source": [
    "---\n",
    "\n",
    "### Anforderungen\n",
    "\n",
    "#### Software & Module\n",
    "\n",
    "Dieses Tutorial setzt voraus, dass Sie mit der Programmiersprache [Python](https://python.org) vertraut sind. Die Kenntnis grundlegender REST-API-Konzepte und deren Verwendung wird ebenfalls vorausgesetzt.\n",
    "\n",
    "Die in diesem Tutorium verwendeten Python-Module sind:\n",
    "* [requests](http://docs.python-requests.org/)\n",
    "* [json](https://docs.python.org/3/library/json.html)\n",
    "* [leafmap](https://leafmap.org/)\n",
    "\n",
    "\n",
    "#### Actinia API Benutzer und Passwort\n",
    "\n",
    "Für diese Demo werden die Anmeldedaten für die Authentifizierung benötigt, die unten in **Vorbereitung** als Variable festgelegt sind. Eine andere Actinia-Instanz kann andere Anmeldedaten erfordern."
   ]
  },
  {
   "cell_type": "markdown",
   "id": "08c7f32c",
   "metadata": {},
   "source": [
    "### Hilfsmodule und Funktionen\n",
    "\n",
    "Bevor wir mit dem actinia-Server über Python interagieren, werden wir die erforderlichen Pakete importieren und Hilfsfunktion erstellen."
   ]
  },
  {
   "cell_type": "markdown",
   "id": "f1a67b3a",
   "metadata": {},
   "source": [
    "## Vorbereitung\n",
    "\n",
    "Um diese Sitzung im Jupyter Notebook zu initialisieren, laden wir einige Python Bibliotheken. `matplotlib` und `leafmap` muss zudem zunächst noch installiert werden."
   ]
  },
  {
   "cell_type": "code",
   "execution_count": null,
   "id": "38a47368",
   "metadata": {},
   "outputs": [],
   "source": [
    "!pip install matplotlib\n",
    "!pip install -U leafmap"
   ]
  },
  {
   "cell_type": "markdown",
   "id": "c779d9be",
   "metadata": {},
   "source": [
    "Im jupyter hub müssen danach unter Umständen Pfade neu gesetzt werden, damit `matplotlib` auch gefunden wird. Eventuelle Warnungen von `pip install` müssen berücksichtigt werden."
   ]
  },
  {
   "cell_type": "code",
   "execution_count": null,
   "id": "ef182c1f",
   "metadata": {},
   "outputs": [],
   "source": [
    "# read the warnings of pip install to get the paths not in path\n",
    "\n",
    "import os\n",
    "\n",
    "path = os.getenv(\"PATH\")\n",
    "path = path + os.pathsep + \"/home/jovyan/.local/bin\"\n",
    "os.environ[\"PATH\"] = path\n",
    "\n",
    "# adjust PYTHONPATH\n",
    "\n",
    "import sys\n",
    "sys.path.append(\"/home/jovyan/.local/lib/python3.9/site-packages\")"
   ]
  },
  {
   "cell_type": "markdown",
   "id": "64104013",
   "metadata": {},
   "source": [
    "Note: In den Notebooks in diesem Workshop wird `matplotlib` zur einfachen Darstellung der Ergebnisse genutzt. Alternativ gibt es die Bibliothek `leafmap`, ein Python-Paket für raumbezogene Analysen und interaktive Kartierungen in einer Jupyter-Umgebung: https://leafmap.org/ (siehe auch: [actinia with leafmap notebook](https://github.com/actinia-org/actinia-python-client/blob/main/notebooks/actinia_leafmap.ipynb))."
   ]
  },
  {
   "cell_type": "code",
   "execution_count": null,
   "id": "451fdce3",
   "metadata": {},
   "outputs": [],
   "source": [
    "# Zuerst werden die erforderlichen Python Bibliotheken importiert.\n",
    "\n",
    "import json\n",
    "import shutil\n",
    "import matplotlib.pyplot as plt\n",
    "import numpy as np\n",
    "from PIL import Image\n",
    "\n",
    "import leafmap\n",
    "import requests\n",
    "from requests.auth import HTTPBasicAuth"
   ]
  },
  {
   "cell_type": "markdown",
   "id": "cb0e108e",
   "metadata": {
    "scrolled": true
   },
   "source": [
    "Um die Kommunikation mit dem actinia Server zu vereinfachen, speichern wir die Anmeldedaten und die URL des REST-Servers in Variablen:"
   ]
  },
  {
   "cell_type": "code",
   "execution_count": null,
   "id": "689620c9",
   "metadata": {},
   "outputs": [],
   "source": [
    "# variables to set the actinia host, version, and user\n",
    "\n",
    "actinia_baseurl = \"https://actinia.mundialis.de\"\n",
    "actinia_version = \"v3\"\n",
    "actinia_user = \"fossgis2024\"\n",
    "actinia_pw = \"ahd5ohghaitiiyoh0hu6\"\n",
    "actinia_url = f\"{actinia_baseurl}/api/{actinia_version}\"\n",
    "actinia_auth = HTTPBasicAuth(actinia_user, actinia_pw)"
   ]
  },
  {
   "cell_type": "markdown",
   "id": "34f1c45b",
   "metadata": {},
   "source": [
    "Hilfsfunktionen: \\\n",
    "Funktion um ein formatiertes JSON auszugeben \\\n",
    "Funktion um actinia Job abzufragen"
   ]
  },
  {
   "cell_type": "code",
   "execution_count": null,
   "id": "ce062f38",
   "metadata": {},
   "outputs": [],
   "source": [
    "# helper function to print formatted JSON using the json module\n",
    "\n",
    "def print_as_json(data):\n",
    "    print(json.dumps(data, indent=2))\n",
    "\n",
    "# helper function to verify a request\n",
    "def verify_request(request, success_code=200):\n",
    "    if request.status_code != success_code:\n",
    "        print(\"ERROR: actinia processing failed with status code %d!\" % request.status_code)\n",
    "        print(\"See errors below:\")\n",
    "        print_as_json(request.json())\n",
    "        request_url = request.json()[\"urls\"][\"status\"]\n",
    "        requests.delete(url=request_url, auth=actinia_auth)\n",
    "        raise Exception(\"The resource <%s> has been terminated.\" % request_url)"
   ]
  },
  {
   "cell_type": "markdown",
   "id": "3f9ea23a",
   "metadata": {},
   "source": [
    "## Beispiele\n",
    "\n",
    "* Datenverwaltung\n",
    "* Benutzerdefinierte Verarbeitung: eigene Prozesskette anhand des Beispiels der Berechnung des Normalized Difference Vegetation Index (NDVI).\n"
   ]
  },
  {
   "cell_type": "markdown",
   "id": "c1479e11",
   "metadata": {},
   "source": [
    "### Datenverwaltung\n",
    "\n",
    "Auflistung aller GRASS locations, die über den Endpunkt `/locations` in der persistenten Datenbank von actinia verfügbar sind:"
   ]
  },
  {
   "cell_type": "code",
   "execution_count": null,
   "id": "9a74b7f1",
   "metadata": {},
   "outputs": [],
   "source": [
    "# make a GET request to the actinia data API\n",
    "request_url = f\"{actinia_url}/locations\"\n",
    "print(\"actinia GET request:\")\n",
    "print(request_url)\n",
    "print(\"---\")\n",
    "request = requests.get(url=request_url, auth=actinia_auth)\n",
    "\n",
    "# check if anything went wrong\n",
    "verify_request(request, 200)\n",
    "\n",
    "# get a json-encoded content of the response\n",
    "jsonResponse = request.json()\n",
    "\n",
    "print(\"Available locations:\")\n",
    "\n",
    "# print formatted JSON\n",
    "print_as_json(jsonResponse)"
   ]
  },
  {
   "cell_type": "markdown",
   "id": "5ff6d905",
   "metadata": {},
   "source": [
    "#### Mapsets in Locations auflisten\n",
    "\n",
    "Auflisten aller **Mapsets** innerhalb der Location `fossgis2024_epsg25832_utm32N` über den Endpunkt `/locations/<location_name>/mapsets`:"
   ]
  },
  {
   "cell_type": "code",
   "execution_count": null,
   "id": "150c9fa6",
   "metadata": {},
   "outputs": [],
   "source": [
    "# make a GET request to the actinia data API\n",
    "request_url = actinia_url + \"/locations/fossgis2024_epsg25832_utm32N/mapsets\"\n",
    "print(\"actinia GET request:\")\n",
    "print(request_url)\n",
    "print(\"---\")\n",
    "request = requests.get(url=request_url, auth=actinia_auth)\n",
    "\n",
    "# check if anything went wrong\n",
    "verify_request(request, 200)\n",
    "\n",
    "# get a json-encoded content of the response\n",
    "jsonResponse = request.json()\n",
    "\n",
    "print(\"Mapsets in fossgis2024_epsg25832_utm32N location:\")\n",
    "\n",
    "# print formatted JSON\n",
    "print_as_json(jsonResponse[\"process_results\"])"
   ]
  },
  {
   "cell_type": "markdown",
   "id": "56391b19",
   "metadata": {},
   "source": [
    "#### Inhalt einer Mapset auflisten\n",
    "\n",
    "Auflisten aller **Rasterkarten** in der Location `fossgis2024_epsg25832_utm32N` und Mapset `PERMANENT` über den Endpunkt `/locations/<location_name>/mapsets/<mapset>/raster_layers`:"
   ]
  },
  {
   "cell_type": "code",
   "execution_count": null,
   "id": "7d82bc4f",
   "metadata": {},
   "outputs": [],
   "source": [
    "# make a GET request to the actinia data API\n",
    "request_url = f\"{actinia_url}/locations/fossgis2024_epsg25832_utm32N/mapsets/PERMANENT/raster_layers\"\n",
    "print(\"actinia GET request:\")\n",
    "print(request_url)\n",
    "print(\"---\")\n",
    "request = requests.get(url=request_url, auth=actinia_auth)\n",
    "\n",
    "# check if anything went wrong\n",
    "verify_request(request, 200)\n",
    "\n",
    "# get a json-encoded content of the response\n",
    "jsonResponse = request.json()\n",
    "\n",
    "print(\"Raster layers in mapset PERMANENT of location fossgis2024_epsg25832_utm32N:\")\n",
    "\n",
    "# print formatted JSON\n",
    "print_as_json(jsonResponse[\"process_results\"])"
   ]
  },
  {
   "cell_type": "markdown",
   "id": "829bbef6",
   "metadata": {},
   "source": [
    "Abfrage der **Rasterinformationen** von der Karte `nDOM` über den Endpunkt `/locations/<location_name>/mapsets/<mapset>/raster_layers/<raster>`:"
   ]
  },
  {
   "cell_type": "code",
   "execution_count": null,
   "id": "80eda1b1",
   "metadata": {},
   "outputs": [],
   "source": [
    "# make a GET request to the actinia data API\n",
    "request_url = f\"{actinia_url}/locations/fossgis2024_epsg25832_utm32N/mapsets/PERMANENT/raster_layers/ndom\"\n",
    "print(\"actinia GET request:\")\n",
    "print(request_url)\n",
    "print(\"---\")\n",
    "request = requests.get(url=request_url, auth=actinia_auth)\n",
    "\n",
    "# check if anything went wrong\n",
    "verify_request(request, 200)\n",
    "\n",
    "# get a json-encoded content of the response\n",
    "jsonResponse = request.json()\n",
    "\n",
    "print(\"Raster info of ndom in mapset PERMANENT of location fossgis2024_epsg25832_utm32N:\")\n",
    "\n",
    "# print formatted JSON\n",
    "print_as_json(jsonResponse[\"process_results\"])"
   ]
  },
  {
   "cell_type": "markdown",
   "id": "c9fd0811",
   "metadata": {},
   "source": [
    "**Rendere eine Rasterkarte**: Rendern der Karte `ndom` über den Endpunkt `/locations/<location_name>/mapsets/<mapset>/raster_layers/<raster>/render`:"
   ]
  },
  {
   "cell_type": "code",
   "execution_count": null,
   "id": "63ab0325",
   "metadata": {},
   "outputs": [],
   "source": [
    "# make a GET request to the actinia data API\n",
    "request_url = f\"{actinia_url}/locations/fossgis2024_epsg25832_utm32N/mapsets/PERMANENT/raster_layers/ndom/render\"\n",
    "print(\"actinia GET request:\")\n",
    "print(request_url)\n",
    "print(\"---\")\n",
    "request = requests.get(url=request_url, auth=actinia_auth, stream=True)\n",
    "\n",
    "# check if anything went wrong\n",
    "verify_request(request, 200)\n",
    "\n",
    "# download ndom into new folder\n",
    "os.makedirs('result', exist_ok=True)\n",
    "with open('result/ndom.png', 'wb') as out_file:\n",
    "    shutil.copyfileobj(request.raw, out_file)"
   ]
  },
  {
   "cell_type": "markdown",
   "id": "e1f82176",
   "metadata": {},
   "source": [
    "Die `ndom` Karte kann entweder über den obigen link angezeigt werden (user: `fossgis2024`,password: `ahd5ohghaitiiyoh0hu6`) oder durch Ausführen der folgenden Code-Zelle"
   ]
  },
  {
   "cell_type": "code",
   "execution_count": null,
   "id": "72e89511",
   "metadata": {},
   "outputs": [],
   "source": [
    "img = np.asarray(Image.open(\"result/ndom.png\"))\n",
    "imgplot = plt.imshow(img)\n",
    "plt.xticks([]);\n",
    "plt.yticks([]);"
   ]
  },
  {
   "cell_type": "markdown",
   "id": "25cd3b05",
   "metadata": {},
   "source": [
    "Auflistung aller **Vektorkarten** in der Location `fossgis2024_epsg25832_utm32N` und Mapset `PERMANENT` über Endpunkt `/locations/<location_name>/mapsets/<mapset>/vector_layers`:"
   ]
  },
  {
   "cell_type": "code",
   "execution_count": null,
   "id": "59f7f9fe",
   "metadata": {},
   "outputs": [],
   "source": [
    "# make a GET request to the actinia data API\n",
    "request_url = f\"{actinia_url}/locations/fossgis2024_epsg25832_utm32N/mapsets/PERMANENT/vector_layers\"\n",
    "print(\"actinia GET request:\")\n",
    "print(request_url)\n",
    "print(\"---\")\n",
    "request = requests.get(url=request_url, auth=actinia_auth)\n",
    "\n",
    "# check if anything went wrong\n",
    "verify_request(request, 200)\n",
    "\n",
    "# get a json-encoded content of the response\n",
    "jsonResponse = request.json()\n",
    "\n",
    "print(\"Vector layers in mapset PERMANENT of location fossgis2024_epsg25832_utm32N:\")\n",
    "\n",
    "# print formatted JSON\n",
    "print_as_json(jsonResponse[\"process_results\"])"
   ]
  },
  {
   "cell_type": "markdown",
   "id": "f7e54bfd",
   "metadata": {},
   "source": [
    "---\n",
    "\n",
    "### Benutzerdefinierte Verarbeitung\n",
    "\n",
    "Actinia nutzt den **Prozesskettenansatz**, um für Import, Verarbeitung und Export von Geodaten mit dem actinia GRASS GIS Verarbeitungssystem zu kommunizieren.\n",
    "\n",
    "#### Was ist eine Prozesskette?\n",
    "\n",
    "Eine Prozesskette ist eine Liste von GRASS GIS Modulen, die nacheinander in der Reihenfolge der Liste ausgeführt werden. GRASS GIS Module werden als Prozessdefinitionen spezifiziert, die den Namen des Befehls, die Ein- und Ausgaben, einschließlich Import- und Exportdefinitionen sowie die Modulflags enthalten.\n",
    "\n",
    "Die Prozesskette muss in JSON formuliert werden.\n",
    "\n",
    "#### Ephemere vs. persistente Verarbeitung\n",
    "\n",
    "Die Verarbeitung erfolgt immer in einer temporären ephemeren Datenbank, mit der die Daten aus der persistenten und der Benutzerdatenbank verknüpft werden.\n",
    "\n",
    "Der Prozess kann dann **ephemeral** oder **persistent** durchgeführt werden.\n",
    "\n",
    "Bei der **persistenten** Verarbeitung kann die ephemere Datenbank in die persistente Benutzerdatenbank verschoben werden, so dass die Berechnungsergebnisse in weiteren Verarbeitungsschritten verwendet oder mit Hilfe der actinia REST-Aufrufe visualisiert werden können.\n",
    "\n",
    "Bei der **ephemeren** Verarbeitung wird die ephemere Datenbank nach der Berechnung entfernt.\n",
    "\n",
    "Allerdings können alle Raster- und Vektordaten, die während der Verarbeitung erzeugt wurden, mit GDAL/OGR-spezifischen Datentypen exportiert und in einem Objektspeicher außerhalb der actinia-Umgebung gespeichert werden. \n",
    "\n",
    "Bei beiden Verarbeitungstypen besteht nur Lesezugriff auf alle Karten des verwendeten persistenten Datenbankspeichers."
   ]
  },
  {
   "cell_type": "markdown",
   "id": "2591c918",
   "metadata": {},
   "source": [
    "#### Erstellen einer Prozesskette Schritt für Schritt\n",
    "\n",
    "Wir erstellen nun Schritt für Schritt eine Prozesskette anhand des Beispiels der Berechnung des Normalized Difference Vegetation Index (NDVI).\n",
    "\n",
    "Erstellen Sie zunächst eine leere Prozesskette:"
   ]
  },
  {
   "cell_type": "code",
   "execution_count": null,
   "id": "631f1425",
   "metadata": {},
   "outputs": [],
   "source": [
    "process_chain = {\"version\": 1, \"list\": []}"
   ]
  },
  {
   "cell_type": "markdown",
   "id": "524ed150",
   "metadata": {},
   "source": [
    "Fügen Sie den ersten Eintrag in die Prozesskettenliste ein.\n",
    "\n",
    "Für Rasteroperationen müssen wir die **Rechenregion** ([computational region](https://grasswiki.osgeo.org/wiki/Computational_region)) auf die Region von Interesse mit der gewünschten Auflösung setzen.\n",
    "\n",
    "***Hinweis:*** Sie müssen den Namen der Karte und der Mapset folgendermaßen angeben: \"map_name@mapset_name\"."
   ]
  },
  {
   "cell_type": "code",
   "execution_count": null,
   "id": "19988629",
   "metadata": {},
   "outputs": [],
   "source": [
    "# list item for g.region\n",
    "region_process = {\n",
    "  \"id\": \"g_region_to_dop\",\n",
    "  \"module\": \"g.region\",\n",
    "  \"inputs\": [\n",
    "      {\n",
    "          \"param\": \"raster\",\n",
    "          \"value\": \"dop_nir@PERMANENT\"\n",
    "      }\n",
    "  ],\n",
    "  \"flags\": \"p\"\n",
    "}\n",
    "process_chain[\"list\"].append(region_process)\n",
    "print_as_json(process_chain)"
   ]
  },
  {
   "cell_type": "markdown",
   "id": "05521c83",
   "metadata": {},
   "source": [
    "Nun fügen wir die NDVI-Verarbeitung in die Prozesskettenliste ein:"
   ]
  },
  {
   "cell_type": "code",
   "execution_count": null,
   "id": "7a3f7980",
   "metadata": {},
   "outputs": [],
   "source": [
    "# list item for r.mapcalc\n",
    "ndvi_process = {\n",
    "  \"id\": \"r_mapcalc_ndvi\",\n",
    "  \"module\": \"r.mapcalc\",\n",
    "  \"inputs\": [\n",
    "      {\n",
    "          \"param\": \"expression\",\n",
    "          \"value\": \"ndvi = round(127.5 * (1.0 + float((dop_nir@PERMANENT - dop_red@PERMANENT) / (dop_nir@PERMANENT + dop_red@PERMANENT))))\"\n",
    "      }\n",
    "  ]\n",
    "}\n",
    "process_chain[\"list\"].append(ndvi_process)\n",
    "print_as_json(process_chain)"
   ]
  },
  {
   "cell_type": "markdown",
   "id": "be1fe396",
   "metadata": {},
   "source": [
    "Ausgabe der Statistikinformationen der berechneten NDVI-Karte als Prozessergebnis über `stdout`:"
   ]
  },
  {
   "cell_type": "code",
   "execution_count": null,
   "id": "ae071f5f",
   "metadata": {},
   "outputs": [],
   "source": [
    "# list item for r.univar\n",
    "result_id = \"ndvi_stats\"\n",
    "ndvi_stats_process = {\n",
    "          \"id\": \"r_univar_ndvi\",\n",
    "          \"module\": \"r.univar\",\n",
    "          \"inputs\": [\n",
    "              {\n",
    "                  \"param\": \"map\",\n",
    "                  \"value\": \"ndvi\"\n",
    "              }\n",
    "          ],\n",
    "          \"flags\": \"g\",\n",
    "          \"stdout\": {\"id\": result_id, \"format\": \"kv\", \"delimiter\": \"=\"}\n",
    "      }\n",
    "process_chain[\"list\"].append(ndvi_stats_process)\n",
    "print_as_json(process_chain)"
   ]
  },
  {
   "cell_type": "markdown",
   "id": "064de4ea",
   "metadata": {},
   "source": [
    "Export der NDVI-Rasterkarte im COG-Format, da wir im ephemeralen Modus gerechnet haben:"
   ]
  },
  {
   "cell_type": "code",
   "execution_count": null,
   "id": "b32574d8",
   "metadata": {},
   "outputs": [],
   "source": [
    "# list item for exporter\n",
    "export_process = {\n",
    "  \"id\": \"exporter_ndvi\",\n",
    "  \"module\": \"exporter\",\n",
    "  \"outputs\": [\n",
    "    {\n",
    "      \"export\": {\n",
    "        \"type\": \"raster\",\n",
    "        \"format\": \"COG\"\n",
    "      },\n",
    "      \"param\": \"map\",\n",
    "      \"value\": \"ndvi\"\n",
    "    }\n",
    "  ]\n",
    "}\n",
    "process_chain[\"list\"].append(export_process)\n",
    "print_as_json(process_chain)"
   ]
  },
  {
   "cell_type": "markdown",
   "id": "69ad332e",
   "metadata": {},
   "source": [
    "Führen Sie nun den Job aus, indem Sie die Prozesskette an den ephemeren Endpunkt `/locations/<location_name>/processing_async_export` senden."
   ]
  },
  {
   "cell_type": "code",
   "execution_count": null,
   "id": "65a0a36c",
   "metadata": {},
   "outputs": [],
   "source": [
    "# create a POST request to the Actinia Data API\n",
    "request_url = f\"{actinia_url}/locations/fossgis2024_epsg25832_utm32N/processing_async_export\"\n",
    "request = requests.post(url=request_url, auth=actinia_auth, json=process_chain)\n",
    "\n",
    "# check if anything went wrong\n",
    "verify_request(request, 200)\n",
    "\n",
    "# get a json-encoded content of the response\n",
    "jsonResponse = request.json()\n",
    "print(f\"Response with status code: {request.status_code}\")\n",
    "\n",
    "# print formatted JSON\n",
    "print_as_json(jsonResponse)\n",
    "\n",
    "# status url\n",
    "request_url = jsonResponse[\"urls\"][\"status\"]\n",
    "print(f\"status url: {request_url}\")"
   ]
  },
  {
   "cell_type": "markdown",
   "id": "631dbbbc",
   "metadata": {},
   "source": [
    "Das Wichtigste an der Actinia-Antwort ist der **Status**, der `accepted` oder `running` sein sollte, und die **Status-URL** unter `urls - status`.\n",
    "\n",
    "Die Verarbeitung erfolgt asynchron, was bedeutet, dass die Anfrage gesendet wird und Sie nur die Status-URL erhalten, so dass Sie den aktuellen Status der Verarbeitung abfragen können, bis der Job beendet ist.\n",
    "\n",
    "Der **Status** eines Prozesses kann sein:\n",
    "* accepted: actinia hat den Auftrag erhalten und wird in Kürze mit der Verarbeitung beginnen\n",
    "* running: actinia führt den Auftrag aus\n",
    "* finished: actinia hat den Auftrag erfolgreich beendet\n",
    "* error: während der Ausführung des Auftrags ist ein Fehler aufgetreten\n",
    "* terminated: ein: Benutzer:in hat den Auftrag abgebrochen"
   ]
  },
  {
   "cell_type": "markdown",
   "id": "25e91b81",
   "metadata": {},
   "source": [
    "Job abfragen, bis zum Abschluss oder Fehler:"
   ]
  },
  {
   "cell_type": "code",
   "execution_count": null,
   "id": "baa47f56",
   "metadata": {},
   "outputs": [],
   "source": [
    "# continue polling until finished\n",
    "print(request_url)\n",
    "\n",
    "while request.status_code == 200 and \\\n",
    "        jsonResponse[\"message\"] != \"Processing successfully finished\":\n",
    "    request = requests.get(url=request_url, auth=actinia_auth)\n",
    "    jsonResponse = request.json()\n",
    "\n",
    "# check if anything went wrong\n",
    "verify_request(request, 200)\n",
    "\n",
    "# print formatted JSON\n",
    "print_as_json(jsonResponse)"
   ]
  },
  {
   "cell_type": "markdown",
   "id": "3d000536",
   "metadata": {},
   "source": [
    "`ndvi`-Ergebniskarte anzeigen, die Ergebniskarten-URL ist in der Antwort enthalten und hier muss noch `user:password@server` eingefügt werden `exported_raster`."
   ]
  },
  {
   "cell_type": "code",
   "execution_count": null,
   "id": "36fde7ec",
   "metadata": {},
   "outputs": [],
   "source": [
    "result_url = jsonResponse[\"urls\"][\"resources\"][0]\n",
    "print(result_url)\n",
    "raster_url = result_url.replace(\"//\", f\"//{actinia_user}:{actinia_pw}@\")\n",
    "\n",
    "# visualization with leafmap\n",
    "m = leafmap.Map()\n",
    "m.add_basemap(\"Esri.WorldImagery\")\n",
    "m.add_cog_layer(\n",
    "    raster_url,\n",
    "    label=\"NDVI map\",\n",
    "    colormap_name=\"greens\",\n",
    ")\n",
    "# show map\n",
    "m"
   ]
  },
  {
   "cell_type": "markdown",
   "id": "2b0a1dc7",
   "metadata": {},
   "source": [
    "In der Prozesskette wurden die NDVI Statistiken als weiteres Prozessergebnisse festgelegt, und können abgefragt werden."
   ]
  },
  {
   "cell_type": "code",
   "execution_count": null,
   "id": "45bfc32c",
   "metadata": {},
   "outputs": [],
   "source": [
    "print(\"NDVI stats as process results:\")\n",
    "print_as_json(jsonResponse[\"process_results\"][result_id])"
   ]
  }
 ],
 "metadata": {
  "kernelspec": {
   "display_name": "Python 3 (ipykernel)",
   "language": "python",
   "name": "python3"
  },
  "language_info": {
   "codemirror_mode": {
    "name": "ipython",
    "version": 3
   },
   "file_extension": ".py",
   "mimetype": "text/x-python",
   "name": "python",
   "nbconvert_exporter": "python",
   "pygments_lexer": "ipython3",
   "version": "3.10.12"
  },
  "vscode": {
   "interpreter": {
    "hash": "df0893f56f349688326838aaeea0de204df53a132722cbd565e54b24a8fec5f6"
   }
  },
  "widgets": {
   "application/vnd.jupyter.widget-state+json": {
    "state": {},
    "version_major": 2,
    "version_minor": 0
   }
  }
 },
 "nbformat": 4,
 "nbformat_minor": 5
}
